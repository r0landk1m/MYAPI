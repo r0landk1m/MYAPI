{
  "nbformat": 4,
  "nbformat_minor": 0,
  "metadata": {
    "colab": {
      "provenance": [],
      "authorship_tag": "ABX9TyNvgm0QFdpiqIiGns5OAbpB",
      "include_colab_link": true
    },
    "kernelspec": {
      "name": "python3",
      "display_name": "Python 3"
    },
    "language_info": {
      "name": "python"
    }
  },
  "cells": [
    {
      "cell_type": "markdown",
      "metadata": {
        "id": "view-in-github",
        "colab_type": "text"
      },
      "source": [
        "<a href=\"https://colab.research.google.com/github/r0landk1m/MYAPI/blob/main/SLL_Stack.ipynb\" target=\"_parent\"><img src=\"https://colab.research.google.com/assets/colab-badge.svg\" alt=\"Open In Colab\"/></a>"
      ]
    },
    {
      "cell_type": "code",
      "execution_count": null,
      "metadata": {
        "id": "g8gd8rxXmAKm",
        "outputId": "276865ad-6ae5-4484-cd4f-6bc13b1236f4",
        "colab": {
          "base_uri": "https://localhost:8080/"
        }
      },
      "outputs": [
        {
          "output_type": "stream",
          "name": "stdout",
          "text": [
            "['에스파', '아이브', '뉴진스', '잇지']\n",
            "잇지\n",
            "['에스파', '아이브', '뉴진스']\n"
          ]
        }
      ],
      "source": [
        "# SLL Stack\n",
        "class Node:\n",
        "    def __init__(self, data):\n",
        "        self.data = data\n",
        "        self.link = None\n",
        "\n",
        "class SLL:\n",
        "    def __init__(self):\n",
        "        self.head = None\n",
        "        self.index = 0\n",
        "\n",
        "\n",
        "    def insert(self, location, data):   #O(N)\n",
        "        # data 미입력 오류\n",
        "        if data is None:\n",
        "            raise ValueError(\"Cannot insert None value.\")\n",
        "\n",
        "        new_node = Node(data)\n",
        "\n",
        "        # 범위 오류 계산\n",
        "        if location < 0 or location > self.index:\n",
        "            raise IndexError(\"Out of the index.\")\n",
        "\n",
        "        # head.link 자리에 삽입하는지 확인\n",
        "        if location == 0:\n",
        "            new_node.link = self.head\n",
        "            self.head = new_node\n",
        "        else:\n",
        "            current = self.head\n",
        "            for i in range(location - 1):\n",
        "                current = current.link\n",
        "            new_node.link = current.link\n",
        "            current.link = new_node\n",
        "\n",
        "        self.index += 1\n",
        "\n",
        "\n",
        "    def delete(self, location):     #O(N)\n",
        "        # 범위 오류 계산\n",
        "        if location < 0 or location >= self.index:\n",
        "            raise IndexError(\"Out of the index.\")\n",
        "\n",
        "        # head.link 데이터를 제거하는지 확인\n",
        "        if location == 0:\n",
        "            save = self.head.data\n",
        "            self.head = self.head.link\n",
        "        else:\n",
        "            current = self.head\n",
        "            for i in range(location - 1):\n",
        "                current = current.link\n",
        "            save = current.link.data\n",
        "            current.link = current.link.link\n",
        "\n",
        "        self.index -= 1\n",
        "        return save\n",
        "\n",
        "\n",
        "    def print_list(self):\n",
        "        current = self.head\n",
        "        result = []\n",
        "        while current != None:\n",
        "            result.append(current.data)\n",
        "            current = current.link\n",
        "        return result\n",
        "\n",
        "class Stack:\n",
        "    def __init__(self, top):\n",
        "        self.top = top\n",
        "        self.index = 0\n",
        "        self.stack = SLL()\n",
        "\n",
        "    def push(self, data):\n",
        "        if self.stack_full() == -1:\n",
        "            self.stack.insert(self.index, data)\n",
        "            self.index += 1\n",
        "        else:\n",
        "            return -1\n",
        "\n",
        "    def pop(self):\n",
        "        if self.stack_empty() == -1:\n",
        "            return self.stack.delete(self.index - 1)\n",
        "        else:\n",
        "            return -1\n",
        "\n",
        "    def stack_full(self):\n",
        "        if self.index >= self.top:\n",
        "            return 1\n",
        "        else:\n",
        "            return -1\n",
        "\n",
        "    def stack_empty(self):\n",
        "        if self.index == 0:\n",
        "            return 1\n",
        "        else:\n",
        "            return -1\n",
        "\n",
        "    def print_stack(self):\n",
        "        print(self.stack.print_list())\n",
        "\n",
        "# SLL Stack 생성\n",
        "st = Stack(4)\n",
        "st.push(\"에스파\")\n",
        "st.push(\"아이브\")\n",
        "st.push(\"뉴진스\")\n",
        "st.push(\"잇지\")\n",
        "st.push(\"소녀시대\")\n",
        "st.print_stack()\n",
        "\n",
        "# Stack pop 구현\n",
        "print(st.pop())\n",
        "st.print_stack()"
      ]
    }
  ]
}