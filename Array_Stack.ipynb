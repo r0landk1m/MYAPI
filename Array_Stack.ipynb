{
  "nbformat": 4,
  "nbformat_minor": 0,
  "metadata": {
    "colab": {
      "provenance": [],
      "authorship_tag": "ABX9TyMaMmm5YX2zihfYr0TBTO+1",
      "include_colab_link": true
    },
    "kernelspec": {
      "name": "python3",
      "display_name": "Python 3"
    },
    "language_info": {
      "name": "python"
    }
  },
  "cells": [
    {
      "cell_type": "markdown",
      "metadata": {
        "id": "view-in-github",
        "colab_type": "text"
      },
      "source": [
        "<a href=\"https://colab.research.google.com/github/r0landk1m/MYAPI/blob/main/Array_Stack.ipynb\" target=\"_parent\"><img src=\"https://colab.research.google.com/assets/colab-badge.svg\" alt=\"Open In Colab\"/></a>"
      ]
    },
    {
      "cell_type": "code",
      "execution_count": null,
      "metadata": {
        "colab": {
          "base_uri": "https://localhost:8080/"
        },
        "id": "MROIG2hsvlb8",
        "outputId": "344dc502-f03c-4b8d-90ce-cc728378f1df"
      },
      "outputs": [
        {
          "output_type": "stream",
          "name": "stdout",
          "text": [
            "1\n",
            "-1\n",
            "['에스파', '아이브', '뉴진스', '잇지']\n"
          ]
        }
      ],
      "source": [
        "# Array Stack\n",
        "class Stack:\n",
        "    def __init__(self, top):\n",
        "        self.top = top\n",
        "        self.index = 0\n",
        "        self.stack = []\n",
        "\n",
        "    def push(self, data):\n",
        "        if self.stack_full() == -1:\n",
        "            self.stack.append(data)\n",
        "            self.index += 1\n",
        "        else:\n",
        "            return -1\n",
        "\n",
        "    def pop(self):\n",
        "        if self.stack_empty() == -1:\n",
        "            return self.stack.pop()\n",
        "        else:\n",
        "            return -1\n",
        "\n",
        "    def stack_full(self):\n",
        "        if self.index >= self.top:\n",
        "            return 1\n",
        "        else:\n",
        "            return -1\n",
        "\n",
        "    def stack_empty(self):\n",
        "        if self.index == 0:\n",
        "            return 1\n",
        "        else:\n",
        "            return -1\n",
        "\n",
        "    def print_stack(self):\n",
        "        print(self.stack)\n",
        "\n",
        "st = Stack(4)\n",
        "st.push(\"에스파\")\n",
        "st.push(\"아이브\")\n",
        "st.push(\"뉴진스\")\n",
        "st.push(\"잇지\")\n",
        "st.push(\"소녀시대\")\n",
        "print(st.stack_full())\n",
        "print(st.stack_empty())\n",
        "st.print_stack()"
      ]
    }
  ]
}